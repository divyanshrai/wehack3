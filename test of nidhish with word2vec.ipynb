{
 "cells": [
  {
   "cell_type": "code",
   "execution_count": 1,
   "metadata": {},
   "outputs": [],
   "source": [
    "from nltk.tokenize import word_tokenize, sent_tokenize\n",
    "from nltk import pos_tag\n",
    "\n",
    "\n",
    "import json\n",
    "from collections import defaultdict\n",
    "import operator\n",
    "\n",
    "import time\n",
    "import math\n",
    "import os\n",
    "import sys\n",
    "import numpy as np"
   ]
  },
  {
   "cell_type": "code",
   "execution_count": 2,
   "metadata": {},
   "outputs": [],
   "source": [
    "directory=\"D:/Hacks/Wehack3/test data/test_nidhish\"\n",
    "namesofdoc=os.listdir(directory)\n",
    "\n",
    "\n",
    "alpha=0.8\n",
    "totaldocs=len(namesofdoc)"
   ]
  },
  {
   "cell_type": "code",
   "execution_count": 3,
   "metadata": {},
   "outputs": [],
   "source": [
    "def read_data(file_name):\n",
    "    with open(file_name,'r',encoding=\"utf8\") as f:\n",
    "        word_vocab = set() # not using list to avoid duplicate entry\n",
    "        word2vector = {}\n",
    "        for line in f:\n",
    "            line_ = line.strip() #Remove white space\n",
    "            words_Vec = line_.split()\n",
    "            word_vocab.add(words_Vec[0])\n",
    "            word2vector[words_Vec[0]] = np.array(words_Vec[1:],dtype=float)\n",
    "    print(\"Total Words in DataSet:\",len(word_vocab))\n",
    "    return word_vocab,word2vector"
   ]
  },
  {
   "cell_type": "code",
   "execution_count": 4,
   "metadata": {},
   "outputs": [
    {
     "name": "stdout",
     "output_type": "stream",
     "text": [
      "Total Words in DataSet: 400000\n"
     ]
    }
   ],
   "source": [
    "totalvocab, w2v = read_data(\"D:/Deep learning/pretrainedmodels/Glove vectors/glove.6B.50d.txt\")"
   ]
  },
  {
   "cell_type": "code",
   "execution_count": 5,
   "metadata": {},
   "outputs": [],
   "source": [
    "json_data=open(\"D:/Hacks/Wehack3/test data/compresseddict.json\").read()\n",
    "\n",
    "compresseddict = json.loads(json_data)\n"
   ]
  },
  {
   "cell_type": "code",
   "execution_count": null,
   "metadata": {},
   "outputs": [],
   "source": []
  },
  {
   "cell_type": "code",
   "execution_count": null,
   "metadata": {},
   "outputs": [],
   "source": []
  },
  {
   "cell_type": "code",
   "execution_count": null,
   "metadata": {},
   "outputs": [],
   "source": []
  },
  {
   "cell_type": "code",
   "execution_count": 6,
   "metadata": {},
   "outputs": [
    {
     "data": {
      "text/plain": [
       "['modi', 'India']"
      ]
     },
     "execution_count": 6,
     "metadata": {},
     "output_type": "execute_result"
    }
   ],
   "source": [
    "q=\"modi India\"\n",
    "q=word_tokenize(q)\n",
    "q"
   ]
  },
  {
   "cell_type": "code",
   "execution_count": 7,
   "metadata": {},
   "outputs": [],
   "source": [
    "with open(\"D:/Hacks/Wehack3/test data/vocab.txt\", 'r',encoding='UTF-8') as f:\n",
    "    vocab = [line.rstrip('\\n') for line in f]"
   ]
  },
  {
   "cell_type": "code",
   "execution_count": 8,
   "metadata": {},
   "outputs": [],
   "source": [
    "for i in range(0,len(q)):\n",
    "    replace=\"\"\n",
    "    mindist=1000\n",
    "    if q[i].lower() not in vocab:\n",
    "        vec1=w2v[q[i]]\n",
    "        for j in vocab:\n",
    "            if j in totalvocab:\n",
    "                vec2=w2v[j]\n",
    "                dist = np.linalg.norm(vec1-vec2)\n",
    "                if dist<mindist:\n",
    "                    mindist=dist\n",
    "                    replace=j\n",
    "        q[i]=replace"
   ]
  },
  {
   "cell_type": "code",
   "execution_count": 9,
   "metadata": {},
   "outputs": [
    {
     "data": {
      "text/plain": [
       "[('modi', 'NNS'), ('India', 'NNP')]"
      ]
     },
     "execution_count": 9,
     "metadata": {},
     "output_type": "execute_result"
    }
   ],
   "source": [
    "x=pos_tag(q)\n",
    "x"
   ]
  },
  {
   "cell_type": "code",
   "execution_count": null,
   "metadata": {},
   "outputs": [],
   "source": []
  },
  {
   "cell_type": "code",
   "execution_count": 10,
   "metadata": {},
   "outputs": [],
   "source": [
    "dictofdoc={}\n",
    "\n",
    "for i in namesofdoc:\n",
    "    dictofdoc[i]=0\n",
    "\n",
    "for i in x: \n",
    "    info=compresseddict[i[0].lower()]\n",
    "    #finding number of documents query word is in\n",
    "    numberofdocs=0\n",
    "    numofdocsnocontext=0\n",
    "    docs_counted=[]\n",
    "    docs_nocontext_counted=[]\n",
    "    for j in info:     #j has POStag,docn,number\n",
    "        if j[0]==i[1]: #matches context\n",
    "            if j[1] not in docs_counted: #to see whether or not the doc is already counted\n",
    "                docs_counted.append(j[1])\n",
    "                numberofdocs=numberofdocs+1\n",
    "        else:\n",
    "            if j[1] not in docs_counted: #to see whether or not the doc is already counted\n",
    "                docs_nocontext_counted.append(j[1])\n",
    "                numofdocsnocontext=numofdocsnocontext+1\n",
    "            \n",
    "            \n",
    "    \n",
    "    for j in info:     #j has POStag,docn,number\n",
    "        if j[0]==i[1]: #matches context\n",
    "            dictofdoc[j[1]]=dictofdoc[j[1]]+(alpha*j[2]*math.log10((totaldocs+1)/numberofdocs))\n",
    "            \n",
    "        else: #context not matched\n",
    "            noncontext_match=j[2]\n",
    "            dictofdoc[j[1]]=dictofdoc[j[1]]+((1-alpha)*j[2]*math.log10((totaldocs+1)/numofdocsnocontext))   "
   ]
  },
  {
   "cell_type": "code",
   "execution_count": 11,
   "metadata": {},
   "outputs": [
    {
     "data": {
      "text/plain": [
       "{'ainme.txt': 0,\n",
       " 'choclate.txt': 0,\n",
       " 'hackathon.txt': 0,\n",
       " 'Japan.txt': 0,\n",
       " 'japan_stock.txt': 0,\n",
       " 'modi-japan-trip.txt': 2.23670401387526,\n",
       " 'modi.txt': 2.23670401387526,\n",
       " 'programming.txt': 0,\n",
       " 'usa.txt': 0}"
      ]
     },
     "execution_count": 11,
     "metadata": {},
     "output_type": "execute_result"
    }
   ],
   "source": [
    "dictofdoc"
   ]
  },
  {
   "cell_type": "code",
   "execution_count": null,
   "metadata": {},
   "outputs": [],
   "source": []
  }
 ],
 "metadata": {
  "kernelspec": {
   "display_name": "Python 3",
   "language": "python",
   "name": "python3"
  },
  "language_info": {
   "codemirror_mode": {
    "name": "ipython",
    "version": 3
   },
   "file_extension": ".py",
   "mimetype": "text/x-python",
   "name": "python",
   "nbconvert_exporter": "python",
   "pygments_lexer": "ipython3",
   "version": "3.6.5"
  }
 },
 "nbformat": 4,
 "nbformat_minor": 2
}
