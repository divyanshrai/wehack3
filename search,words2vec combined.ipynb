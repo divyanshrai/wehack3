{
 "cells": [
  {
   "cell_type": "code",
   "execution_count": 52,
   "metadata": {},
   "outputs": [],
   "source": [
    "import json\n",
    "import os\n",
    "from collections import defaultdict\n",
    "\n",
    "import gensim\n",
    "from gensim.models.doc2vec import Doc2Vec\n",
    "from gensim.summarization import summarize\n",
    "\n",
    "import math\n",
    "import operator\n",
    "import numpy as np\n",
    "from nltk import word_tokenize,sent_tokenize,pos_tag\n"
   ]
  },
  {
   "cell_type": "code",
   "execution_count": 90,
   "metadata": {},
   "outputs": [],
   "source": [
    "def read_data(file_name):\n",
    "    with open(file_name,'r',encoding=\"utf8\") as f:\n",
    "        word_vocab = set() # not using list to avoid duplicate entry\n",
    "        word2vector = {}\n",
    "        for line in f:\n",
    "            line_ = line.strip() #Remove white space\n",
    "            words_Vec = line_.split()\n",
    "            word_vocab.add(words_Vec[0])\n",
    "            word2vector[words_Vec[0]] = np.array(words_Vec[1:],dtype=float)\n",
    "    print(\"Total Words in DataSet:\",len(word_vocab))\n",
    "    return word_vocab,word2vector"
   ]
  },
  {
   "cell_type": "code",
   "execution_count": 91,
   "metadata": {},
   "outputs": [
    {
     "name": "stdout",
     "output_type": "stream",
     "text": [
      "Total Words in DataSet: 400000\n"
     ]
    }
   ],
   "source": [
    "totalvocab, w2v = read_data(\"D:/Deep learning/pretrainedmodels/Glove vectors/glove.6B.50d.txt\")"
   ]
  },
  {
   "cell_type": "code",
   "execution_count": 54,
   "metadata": {},
   "outputs": [],
   "source": [
    "json_data=open(\"D:/Hacks/Wehack3/compresseddict.json\").read()\n",
    "\n",
    "compresseddict = json.loads(json_data)"
   ]
  },
  {
   "cell_type": "code",
   "execution_count": 55,
   "metadata": {},
   "outputs": [],
   "source": [
    "with open(\"D:/Hacks/Wehack3/vocab.txt\", 'r',encoding='UTF-8') as f:\n",
    "    vocab = [line.rstrip('\\n') for line in f]"
   ]
  },
  {
   "cell_type": "code",
   "execution_count": 56,
   "metadata": {},
   "outputs": [
    {
     "data": {
      "text/plain": [
       "(1216, 1216)"
      ]
     },
     "execution_count": 56,
     "metadata": {},
     "output_type": "execute_result"
    }
   ],
   "source": [
    "len(vocab),len(compresseddict.keys())"
   ]
  },
  {
   "cell_type": "code",
   "execution_count": null,
   "metadata": {},
   "outputs": [],
   "source": []
  },
  {
   "cell_type": "code",
   "execution_count": 113,
   "metadata": {},
   "outputs": [
    {
     "data": {
      "text/plain": [
       "[('help', 'NN'), ('mode', 'NN'), ('supplies', 'NNS')]"
      ]
     },
     "execution_count": 113,
     "metadata": {},
     "output_type": "execute_result"
    }
   ],
   "source": [
    "q=\"help mode stockpile\"#stockpile->supplies\n",
    "q=word_tokenize(q.lower())\n",
    "\n",
    "for i in range(0,len(q)):\n",
    "    replace=\"\"\n",
    "    mindist=1000\n",
    "    if q[i].lower() not in vocab:\n",
    "        vec1=w2v[q[i]]\n",
    "        for j in vocab:\n",
    "            if j in totalvocab:\n",
    "                vec2=w2v[j]\n",
    "                dist = np.linalg.norm(vec1-vec2)\n",
    "                if dist<mindist:\n",
    "                    mindist=dist\n",
    "                    replace=j\n",
    "        q[i]=replace\n",
    "\n",
    "\n",
    "x=pos_tag(q)\n",
    "x"
   ]
  },
  {
   "cell_type": "code",
   "execution_count": 116,
   "metadata": {},
   "outputs": [],
   "source": [
    "directory=\"D:/Hacks/Wehack3/for short testing/\"\n",
    "namesofdoc=os.listdir(directory)\n",
    "\n",
    "alpha=0.50\n",
    "totaldocs=len(namesofdoc)\n",
    "\n",
    "inv_indx = defaultdict(list)"
   ]
  },
  {
   "cell_type": "code",
   "execution_count": null,
   "metadata": {},
   "outputs": [],
   "source": []
  },
  {
   "cell_type": "code",
   "execution_count": 118,
   "metadata": {},
   "outputs": [],
   "source": [
    "######## SEARCH #######\n",
    "dictofdoc={}\n",
    "listofdoc=[]\n",
    "\n",
    "for i in namesofdoc:\n",
    "    dictofdoc[i]=0\n",
    "\n",
    "\n",
    "for i in namesofdoc:\n",
    "    dictofdoc[i]=0\n",
    "    listofdoc.append(i)\n",
    "\n",
    "for i in x: \n",
    "    info=compresseddict[i[0].lower()]\n",
    "    #finding number of documents query word is in\n",
    "    numberofdocs=0\n",
    "    numofdocsnocontext=0\n",
    "    docs_counted=[]\n",
    "    docs_nocontext_counted=[]\n",
    "    listofdoc2=[]\n",
    "    for j in info:     #j has POStag,docn,number\n",
    "        listofdoc2.append(j[1])\n",
    "        if j[0]==i[1]: #matches context\n",
    "            if j[1] not in docs_counted: #to see whether or not the doc is already counted\n",
    "                docs_counted.append(j[1])\n",
    "                numberofdocs=numberofdocs+1\n",
    "        else:\n",
    "            if j[1] not in docs_counted: #to see whether or not the doc is already counted\n",
    "                docs_nocontext_counted.append(j[1])\n",
    "                numofdocsnocontext=numofdocsnocontext+1\n",
    "    listofdoc=list(set(listofdoc).intersection(set(listofdoc2)))\n",
    "            \n",
    "            \n",
    "    \n",
    "    for j in info:     #j has POStag,docn,number\n",
    "        try:\n",
    "            if j[0]==i[1]: #matches context\n",
    "                dictofdoc[j[1]]=dictofdoc[j[1]]+(alpha*j[2]*math.log10((totaldocs+1)/numberofdocs))\n",
    "\n",
    "            else: #context not matched\n",
    "                noncontext_match=j[2]\n",
    "                dictofdoc[j[1]]=dictofdoc[j[1]]+((1-alpha)*j[2]*math.log10((totaldocs+1)/numofdocsnocontext))\n",
    "        except:\n",
    "            continue\n",
    "\n",
    "\n",
    "for i in listofdoc:\n",
    "    dictofdoc[i]=dictofdoc[i]*15"
   ]
  },
  {
   "cell_type": "code",
   "execution_count": 119,
   "metadata": {
    "scrolled": true
   },
   "outputs": [],
   "source": [
    "sortedd = sorted(dictofdoc.items(), key=operator.itemgetter(1))"
   ]
  },
  {
   "cell_type": "code",
   "execution_count": 120,
   "metadata": {},
   "outputs": [],
   "source": [
    "listtop5=[]\n",
    "for i in range(1,len(sortedd)):\n",
    "    listtop5.append(sortedd[-i][0])\n",
    "    if i==5:\n",
    "        break"
   ]
  },
  {
   "cell_type": "code",
   "execution_count": 121,
   "metadata": {},
   "outputs": [
    {
     "data": {
      "text/plain": [
       "['Falcon_7X-Air_Cond_and_Press44.txt',\n",
       " 'Falcon_7X-Air_Cond_and_Press58.txt',\n",
       " 'Falcon_7X-Air_Cond_and_Press20.txt',\n",
       " 'Falcon_7X-Air_Cond_and_Press14.txt',\n",
       " 'Falcon_7X-Air_Cond_and_Press60.txt']"
      ]
     },
     "execution_count": 121,
     "metadata": {},
     "output_type": "execute_result"
    }
   ],
   "source": [
    "listtop5"
   ]
  },
  {
   "cell_type": "code",
   "execution_count": 126,
   "metadata": {},
   "outputs": [],
   "source": [
    "dirimg=\"D:/Hacks/Wehack3/Tesseract work/\"\n",
    "images=os.listdir(dirimg)\n",
    "\n",
    "sendtonid={}\n",
    "for i in listtop5:\n",
    "    try:\n",
    "        with open(directory+i, 'r',encoding='UTF-8') as f:\n",
    "            s=f.read()\n",
    "    except:\n",
    "        with open(directory+i, 'r') as f:\n",
    "            s=f.read()\n",
    "    listofimg=[]\n",
    "    for j in images:\n",
    "        if j.startswith(i[:-4]):\n",
    "            listofimg.append(j)\n",
    "    if len(listofimg)==0:\n",
    "        listofimg=\"k.jpg\"\n",
    "    sendtonid[i]=[summarize(s),listofimg,i]"
   ]
  },
  {
   "cell_type": "code",
   "execution_count": 127,
   "metadata": {},
   "outputs": [
    {
     "data": {
      "text/plain": [
       "'Falcon_7X-Air_Cond_and_Press60'"
      ]
     },
     "execution_count": 127,
     "metadata": {},
     "output_type": "execute_result"
    }
   ],
   "source": [
    "i[:-4]"
   ]
  },
  {
   "cell_type": "code",
   "execution_count": 128,
   "metadata": {},
   "outputs": [
    {
     "data": {
      "text/plain": [
       "{'Falcon_7X-Air_Cond_and_Press44.txt': ['select  one  of  the  five  following  modes:  NORMAL,  BACKUP,  CREW  OFF,  PAX  OFF  and \\n-  In MAN mode a desired cabin hot air valve position.\\nIn  MAN  mode,  PAX  AFT  TEMP  rotary  knob  is  disabled  (INOP  lighted)  and  PAX  valve \\nposition setting is made through the PAX FWD TEMP rotary pushbutton.\\nIn ECS EMERG mode, the AMSAC modulates the cabin hot air valve to the desired position \\nMAN mode (the PAX AFT TEMP is not used by the AMSEC).\\nThe XBLEED ECS pushbutton allows the crew members to manually open or close the ECS \\nThe  AMSAC  drives  the  valve  when  the  ECS  Mode  Selector  is  in  the \\nNORMAL, PAX OFF, CREW OFF or BACKUP position.\\nThe AMSAC automatically drives the XBLEED ECS valve closed if \\nWhen the PACK rotary switch is in the EMERG position, the AMSEC drives the XBLEED \\nopen position, except in EMERG mode.\\nThe  GND VENT  pushbutton  allows  the  crew  members  to  manually  close  the  recirculation \\n-  The recirculation valve is controlled by the AMSAC and closes at 14,000 ft, (except if \\nthe  PACK  rotary  switch  is  in  the  EMERG  position;  the  valve  remains  in  the  last \\nWith the GND VENT pushbutton in the OFF position, the recirculation valve and the GND ',\n",
       "  'k.jpg',\n",
       "  'Falcon_7X-Air_Cond_and_Press44.txt'],\n",
       " 'Falcon_7X-Air_Cond_and_Press58.txt': ['The baggage ventilation valve is located on the baggage compartment pressure bulkhead, \\nallowing  cabin  air  to  exit  the  pressurized  baggage  compartment.\\nVentilation,  on  ground,  of  the  baggage  compartment  is  provided  through  the  ground \\nventilation  valve,  located  on  the  baggage  compartment  pressure  bulkhead.\\nventilation  valve  provides  all  sensing  and  control  laws  and  send  valve  commands  to  the \\ntime,  the  cabin  ventilation  valve  provides  the  primary  sensing  and  control  laws,  only \\n(mainly during high altitude operation): the cabin ventilation valve remains closed and the \\nwhole cabin airflow exhausts through the baggage ventilation valve.\\ncabin ventilation valve provides the primary sensing and control laws, sending commands to \\nposition, the baggage ventilation valve begins to close, so that there is an overlap in control \\nFalcon 7X [Air Conditioning & Pressurization Summary]Page 58\\x0cBAGGAGE COMPARTMENT PRESSURIZATION AND ISOLATION \\nThe  baggage  compartment  is  normally  pressurized  at  approximately  the  same  differential \\nin  case  of  low  cabin  to  ambient  differential  pressure  conditions,  underfloor  ventilation  is \\nThe  underfloor  air  is  ventilated  through  the  cabin  ventilation  valve  (and  not  through  the ',\n",
       "  'k.jpg',\n",
       "  'Falcon_7X-Air_Cond_and_Press58.txt'],\n",
       " 'Falcon_7X-Air_Cond_and_Press20.txt': ['The ACM turbine is driven by the hot air coming from the primary heat exchanger\\nstatic air inlet and expels it through the main pack outlet located under the\\nAir at the outlet of the secondary exchanger enters the reheater, where it is cooled\\nby air coming from the water separator and by the airflow from the ACM turbine.\\nAbove 30,000 ft, the Altitude Valve is automatically opened in order to by-pass the\\nvalve reduces pressure drop, allowing the main pack to provide more cold air during\\nAir temperature at the water separator inlet must remain above 6°C, and air\\ntemperature at the outlet of the main pack is regulated at 3°C.\\nthese conditions, the AMSAC opens the temperature control valve, as necessary, to\\nheat the main pack outlet.\\nBelow an airplane altitude of 14,000 ft, the main pack outlet cold air is mixed with\\nsupplied exclusively with cold air from the main pack.\\nemergency cold air valve is open and the XBLEED ECS is closed by the AMSEC.',\n",
       "  ['Falcon_7X-Air_Cond_and_Press20.JPG'],\n",
       "  'Falcon_7X-Air_Cond_and_Press20.txt'],\n",
       " 'Falcon_7X-Air_Cond_and_Press14.txt': ['-  Supplies directly cool air to the gaspers (cockpit, galley, lavatories and cabin), DU, FWD \\n-  Flows through the cabin and cockpit cold valves to be mixed with the hot bleed air to \\nThe conditioned air is then distributed in the cockpit, cabin and underfloor as follows: \\ncabin  ventilation  valve,  and  toward  the  baggage  compartment  through  the  isolation \\nAir-flow from the baggage compartment to the baggage ventilation valve ensures ventilation of \\nare in AUTO mode) by varying the amount of hot air through the cabin and cockpit “hot” \\n-  Manages the cabin cold air valve to maintain a constant gasper flow.\\n-  Manages only the cabin hot valve position.\\nlocations) to provide either a full automatic regulation of cockpit/cabin temperature or a ',\n",
       "  'k.jpg',\n",
       "  'Falcon_7X-Air_Cond_and_Press14.txt'],\n",
       " 'Falcon_7X-Air_Cond_and_Press60.txt': ['In  automatic  mode,  the  pressurization  system  automatically  controls  cabin  altitude  and \\npressurization rate of change according to programmed laws and airfield elevation.\\nBoth automatic mode laws have the capability of a LOW cabin altitude rate of change option.\\n-  Pre-pressurization  of  the  cabin  at  an  altitude  below  the  runway  elevation,  in  order  to \\n-  Automatic  depressurization  sequence,  by  pressurizing  cabin  at  an  altitude  below  the \\nrunway elevation, in order to avoid cabin pressure bumps during landing.\\npressure rate of change during climb and descent based on airplane vertical flight plan \\nThis mode is intended to maintain a low cabin altitude of 1,000 ft until airplane reaches \\nLOW cabin altitude rate of change can be activated with either NORM or FL laws to limit \\no  Cabin and baggage ventilation valves remain in their last commanded position.\\no  When actuated the knob opens or closes the cabin ventilation valve (only).\\nIn manual pressurization mode, the cabin altitude limit of 14,500 ft remains active as long as \\nIn DUMP mode, the cabin ventilation valve is commanded open.',\n",
       "  'k.jpg',\n",
       "  'Falcon_7X-Air_Cond_and_Press60.txt']}"
      ]
     },
     "execution_count": 128,
     "metadata": {},
     "output_type": "execute_result"
    }
   ],
   "source": [
    "sendtonid"
   ]
  },
  {
   "cell_type": "code",
   "execution_count": null,
   "metadata": {},
   "outputs": [],
   "source": []
  }
 ],
 "metadata": {
  "kernelspec": {
   "display_name": "Python 3",
   "language": "python",
   "name": "python3"
  },
  "language_info": {
   "codemirror_mode": {
    "name": "ipython",
    "version": 3
   },
   "file_extension": ".py",
   "mimetype": "text/x-python",
   "name": "python",
   "nbconvert_exporter": "python",
   "pygments_lexer": "ipython3",
   "version": "3.6.5"
  }
 },
 "nbformat": 4,
 "nbformat_minor": 2
}
